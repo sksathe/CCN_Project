{
 "cells": [
  {
   "cell_type": "code",
   "execution_count": 1,
   "metadata": {},
   "outputs": [
    {
     "name": "stderr",
     "output_type": "stream",
     "text": [
      "C:\\Users\\Admin\\anaconda3\\lib\\site-packages\\sklearn\\utils\\validation.py:72: DataConversionWarning: A column-vector y was passed when a 1d array was expected. Please change the shape of y to (n_samples, ), for example using ravel().\n",
      "  return f(**kwargs)\n"
     ]
    },
    {
     "name": "stdout",
     "output_type": "stream",
     "text": [
      "Accuracy: 0.9988145639288738\n",
      "Precision: 0.9763779527559056\n",
      "Recall: 0.96875\n",
      "False Negative Rate:  0.03125\n",
      "Accuracy: 0.9347826086956522\n",
      "Precision: 1.0\n",
      "Recall: 0.9347826086956522\n",
      "False Negative Rate:  0.06521739130434778\n"
     ]
    }
   ],
   "source": [
    "import pandas as pd\n",
    "import numpy as np\n",
    "import matplotlib.pyplot as plt\n",
    "import seaborn as sns\n",
    "\n",
    "from sklearn import metrics\n",
    "from sklearn.linear_model import LogisticRegression\n",
    "from sklearn.model_selection import train_test_split\n",
    "\n",
    "df = pd.read_csv(\"C:/Users/Admin/Desktop/Btech Project/datasets/Training Dataset.csv\")\n",
    "columns= list(df.columns)\n",
    "\n",
    "X = df[columns[:-1]]\n",
    "y = df[['Label2']]\n",
    "\n",
    "\n",
    "X_train, X_test, y_train, y_test = train_test_split(X, y, test_size=0.25, random_state=123)\n",
    "\n",
    "model = LogisticRegression()\n",
    "model.fit(X_train, y_train)\n",
    "\n",
    "y_pred = pd.Series(model.predict(X_test))\n",
    "\n",
    "print(\"Accuracy:\", metrics.accuracy_score(y_test, y_pred))\n",
    "print(\"Precision:\", metrics.precision_score(y_test, y_pred))\n",
    "print(\"Recall:\", metrics.recall_score(y_test, y_pred))\n",
    "recall = metrics.recall_score(y_test, y_pred)\n",
    "print(\"False Negative Rate: \", 1 - recall)\n",
    "\n",
    "\n",
    "df1=pd.read_csv(\"C:/Users/Admin/Desktop/Btech Project/datasets/Unknown Attack Testing Dataset.csv\")\n",
    "x_test_udp = df1[columns[:-1]]\n",
    "y_test_udp = df1[['Label2']]\n",
    "\n",
    "y_pred_udp = pd.Series(model.predict(x_test_udp))\n",
    "\n",
    "\n",
    "print(\"Accuracy:\", metrics.accuracy_score(y_test_udp, y_pred_udp))\n",
    "print(\"Precision:\", metrics.precision_score(y_test_udp, y_pred_udp))\n",
    "print(\"Recall:\", metrics.recall_score(y_test_udp, y_pred_udp))\n",
    "recall = metrics.recall_score(y_test_udp, y_pred_udp)\n",
    "print(\"False Negative Rate: \", 1 - recall)\n"
   ]
  },
  {
   "cell_type": "code",
   "execution_count": null,
   "metadata": {},
   "outputs": [],
   "source": []
  }
 ],
 "metadata": {
  "kernelspec": {
   "display_name": "Python 3",
   "language": "python",
   "name": "python3"
  },
  "language_info": {
   "codemirror_mode": {
    "name": "ipython",
    "version": 3
   },
   "file_extension": ".py",
   "mimetype": "text/x-python",
   "name": "python",
   "nbconvert_exporter": "python",
   "pygments_lexer": "ipython3",
   "version": "3.8.5"
  }
 },
 "nbformat": 4,
 "nbformat_minor": 4
}
